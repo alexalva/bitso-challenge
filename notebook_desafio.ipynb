{
 "cells": [
  {
   "cell_type": "markdown",
   "id": "attempted-brother",
   "metadata": {},
   "source": [
    "Consider the daily open, high, low, close and volume of Bitcoin to US Dollar exchange rate from 1st January 2015 to 31 December 2020, and the daily log returns calculated from close-to-close data. The purpose of this assignment is to analyze the volatility series of daily asset returns.\n",
    "\n",
    "All models should include the mean and volatility equations. You should always perform model checking to confirm the adequacy of a fitted model. In all cases, please share the results as well as the source code and data."
   ]
  },
  {
   "cell_type": "markdown",
   "id": "swedish-smoke",
   "metadata": {},
   "source": [
    "* Obtain the data from online sources. Disclose the method and source you used for downloading."
   ]
  },
  {
   "cell_type": "code",
   "execution_count": 1,
   "id": "sunrise-springfield",
   "metadata": {},
   "outputs": [
    {
     "name": "stdout",
     "output_type": "stream",
     "text": [
      "[*********************100%***********************]  1 of 1 completed\n"
     ]
    },
    {
     "data": {
      "text/html": [
       "<div>\n",
       "<style scoped>\n",
       "    .dataframe tbody tr th:only-of-type {\n",
       "        vertical-align: middle;\n",
       "    }\n",
       "\n",
       "    .dataframe tbody tr th {\n",
       "        vertical-align: top;\n",
       "    }\n",
       "\n",
       "    .dataframe thead th {\n",
       "        text-align: right;\n",
       "    }\n",
       "</style>\n",
       "<table border=\"1\" class=\"dataframe\">\n",
       "  <thead>\n",
       "    <tr style=\"text-align: right;\">\n",
       "      <th></th>\n",
       "      <th>Open</th>\n",
       "      <th>High</th>\n",
       "      <th>Low</th>\n",
       "      <th>Close</th>\n",
       "      <th>Adj Close</th>\n",
       "      <th>Volume</th>\n",
       "      <th>log_close</th>\n",
       "      <th>return</th>\n",
       "      <th>log_return</th>\n",
       "      <th>squared_log_return</th>\n",
       "      <th>return_100x</th>\n",
       "      <th>log_return_100x</th>\n",
       "    </tr>\n",
       "    <tr>\n",
       "      <th>Date</th>\n",
       "      <th></th>\n",
       "      <th></th>\n",
       "      <th></th>\n",
       "      <th></th>\n",
       "      <th></th>\n",
       "      <th></th>\n",
       "      <th></th>\n",
       "      <th></th>\n",
       "      <th></th>\n",
       "      <th></th>\n",
       "      <th></th>\n",
       "      <th></th>\n",
       "    </tr>\n",
       "  </thead>\n",
       "  <tbody>\n",
       "    <tr>\n",
       "      <th>2015-01-01</th>\n",
       "      <td>320.434998</td>\n",
       "      <td>320.434998</td>\n",
       "      <td>314.002991</td>\n",
       "      <td>314.248993</td>\n",
       "      <td>314.248993</td>\n",
       "      <td>8036550</td>\n",
       "      <td>5.750186</td>\n",
       "      <td>NaN</td>\n",
       "      <td>0.000000</td>\n",
       "      <td>0.000000</td>\n",
       "      <td>NaN</td>\n",
       "      <td>0.000000</td>\n",
       "    </tr>\n",
       "    <tr>\n",
       "      <th>2015-01-02</th>\n",
       "      <td>314.079010</td>\n",
       "      <td>315.838989</td>\n",
       "      <td>313.565002</td>\n",
       "      <td>315.032013</td>\n",
       "      <td>315.032013</td>\n",
       "      <td>7860650</td>\n",
       "      <td>5.752674</td>\n",
       "      <td>0.002492</td>\n",
       "      <td>0.002489</td>\n",
       "      <td>0.000006</td>\n",
       "      <td>0.249172</td>\n",
       "      <td>0.248862</td>\n",
       "    </tr>\n",
       "    <tr>\n",
       "      <th>2015-01-03</th>\n",
       "      <td>314.846008</td>\n",
       "      <td>315.149994</td>\n",
       "      <td>281.082001</td>\n",
       "      <td>281.082001</td>\n",
       "      <td>281.082001</td>\n",
       "      <td>33054400</td>\n",
       "      <td>5.638646</td>\n",
       "      <td>-0.107767</td>\n",
       "      <td>-0.114028</td>\n",
       "      <td>0.013002</td>\n",
       "      <td>-10.776686</td>\n",
       "      <td>-11.402782</td>\n",
       "    </tr>\n",
       "    <tr>\n",
       "      <th>2015-01-04</th>\n",
       "      <td>281.145996</td>\n",
       "      <td>287.230011</td>\n",
       "      <td>257.612000</td>\n",
       "      <td>264.195007</td>\n",
       "      <td>264.195007</td>\n",
       "      <td>55629100</td>\n",
       "      <td>5.576687</td>\n",
       "      <td>-0.060079</td>\n",
       "      <td>-0.061959</td>\n",
       "      <td>0.003839</td>\n",
       "      <td>-6.007853</td>\n",
       "      <td>-6.195895</td>\n",
       "    </tr>\n",
       "    <tr>\n",
       "      <th>2015-01-05</th>\n",
       "      <td>265.084015</td>\n",
       "      <td>278.341003</td>\n",
       "      <td>265.084015</td>\n",
       "      <td>274.473999</td>\n",
       "      <td>274.473999</td>\n",
       "      <td>43962800</td>\n",
       "      <td>5.614857</td>\n",
       "      <td>0.038907</td>\n",
       "      <td>0.038169</td>\n",
       "      <td>0.001457</td>\n",
       "      <td>3.890684</td>\n",
       "      <td>3.816904</td>\n",
       "    </tr>\n",
       "  </tbody>\n",
       "</table>\n",
       "</div>"
      ],
      "text/plain": [
       "                  Open        High         Low       Close   Adj Close  \\\n",
       "Date                                                                     \n",
       "2015-01-01  320.434998  320.434998  314.002991  314.248993  314.248993   \n",
       "2015-01-02  314.079010  315.838989  313.565002  315.032013  315.032013   \n",
       "2015-01-03  314.846008  315.149994  281.082001  281.082001  281.082001   \n",
       "2015-01-04  281.145996  287.230011  257.612000  264.195007  264.195007   \n",
       "2015-01-05  265.084015  278.341003  265.084015  274.473999  274.473999   \n",
       "\n",
       "              Volume  log_close    return  log_return  squared_log_return  \\\n",
       "Date                                                                        \n",
       "2015-01-01   8036550   5.750186       NaN    0.000000            0.000000   \n",
       "2015-01-02   7860650   5.752674  0.002492    0.002489            0.000006   \n",
       "2015-01-03  33054400   5.638646 -0.107767   -0.114028            0.013002   \n",
       "2015-01-04  55629100   5.576687 -0.060079   -0.061959            0.003839   \n",
       "2015-01-05  43962800   5.614857  0.038907    0.038169            0.001457   \n",
       "\n",
       "            return_100x  log_return_100x  \n",
       "Date                                      \n",
       "2015-01-01          NaN         0.000000  \n",
       "2015-01-02     0.249172         0.248862  \n",
       "2015-01-03   -10.776686       -11.402782  \n",
       "2015-01-04    -6.007853        -6.195895  \n",
       "2015-01-05     3.890684         3.816904  "
      ]
     },
     "execution_count": 1,
     "metadata": {},
     "output_type": "execute_result"
    }
   ],
   "source": [
    "# Raw Package\n",
    "\n",
    "import numpy as np\n",
    "import pandas as pd\n",
    "\n",
    "#Data Source\n",
    "import yfinance as yf\n",
    "\n",
    "df = yf.download(tickers='BTC-USD', start=\"2015-01-01\", end=\"2020-12-31\", interval = '1d')\n",
    "df['log_close'] = np.log(df.Close)\n",
    "df['return'] = df.Close.pct_change().dropna()\n",
    "df['log_return'] = np.log(df['Close']/df['Close'].shift(1)).fillna(0)\n",
    "df['squared_log_return'] = np.power(df['log_return'], 2)\n",
    "\n",
    "# Scale up 100x\n",
    "df['return_100x'] = np.multiply(df['return'], 100)\n",
    "df['log_return_100x'] = np.multiply(df['log_return'], 100)\n",
    "\n",
    "df.head()\n",
    "\n"
   ]
  },
  {
   "cell_type": "markdown",
   "id": "prescription-calculator",
   "metadata": {},
   "source": [
    "Yahoo finance is the source of the dataset as not many data points are required and its API is extremely fast. We need scale up 100 times for simple returns and log returns. This is because ```ARCH``` Python package might run into convergence issues."
   ]
  },
  {
   "cell_type": "markdown",
   "id": "genuine-negative",
   "metadata": {},
   "source": [
    "* Are there any serial correlations in the log return series?  Why?"
   ]
  },
  {
   "cell_type": "code",
   "execution_count": 2,
   "id": "differential-webmaster",
   "metadata": {},
   "outputs": [
    {
     "name": "stdout",
     "output_type": "stream",
     "text": [
      "      lb_stat  lb_pvalue\n",
      "1    0.917502   0.338132\n",
      "2    0.985983   0.610796\n",
      "3    1.371604   0.712204\n",
      "4    1.404365   0.843436\n",
      "5    1.876773   0.865920\n",
      "6    7.264166   0.297107\n",
      "7   10.416097   0.166194\n",
      "8   10.725230   0.217759\n",
      "9   12.145176   0.205248\n",
      "10  19.091882   0.039111\n",
      "11  19.120537   0.058964\n",
      "12  19.184287   0.084177\n",
      "13  19.340798   0.112910\n",
      "14  20.228915   0.123088\n",
      "15  20.394426   0.157318\n",
      "16  20.542138   0.196789\n",
      "17  24.387577   0.109281\n",
      "18  24.504156   0.139195\n",
      "19  29.110066   0.064273\n",
      "20  30.411262   0.063458\n",
      "21  34.403534   0.032792\n",
      "22  34.412266   0.044580\n",
      "23  36.170233   0.039632\n",
      "24  36.231586   0.052111\n",
      "25  36.231954   0.068153\n",
      "26  36.317198   0.085988\n",
      "27  36.331433   0.108239\n",
      "28  36.677393   0.126147\n",
      "29  38.036652   0.121523\n",
      "30  38.090180   0.147448\n",
      "31  38.331850   0.171133\n",
      "32  39.276801   0.176043\n",
      "33  43.050811   0.113079\n",
      "34  44.094032   0.115164\n",
      "35  44.145678   0.138208\n",
      "36  44.505736   0.156233\n",
      "37  46.012340   0.147067\n",
      "38  46.313777   0.166749\n",
      "39  47.121448   0.174411\n",
      "40  47.928789   0.182118\n"
     ]
    },
    {
     "name": "stderr",
     "output_type": "stream",
     "text": [
      "/opt/anaconda3/lib/python3.7/site-packages/statsmodels/stats/diagnostic.py:533: FutureWarning: The default value of lags is changing.  After 0.12, this value will become min(10, nobs//5). Directly setlags to silence this warning.\n",
      "  \"lags to silence this warning.\", FutureWarning)\n"
     ]
    }
   ],
   "source": [
    "import statsmodels.api as sm\n",
    "\n",
    "logrtn = np.log(df['Close']/df['Close'].shift(1)).fillna(0)\n",
    "\n",
    "#ljunge-Box Text for Serial Corelation\n",
    "seriestest = sm.stats.acorr_ljungbox(logrtn, return_df=True)\n",
    "print(seriestest)\n"
   ]
  },
  {
   "cell_type": "markdown",
   "id": "serious-fitting",
   "metadata": {},
   "source": [
    "Since no p-value is below .05, the test shows that you can not reject the null of no auto-correlation between the series and each of it's first 40 lags with > 95% confidence level."
   ]
  },
  {
   "cell_type": "markdown",
   "id": "regulation-familiar",
   "metadata": {},
   "source": [
    "* Are there any ARCH effects in the log return series?  Why?"
   ]
  },
  {
   "cell_type": "code",
   "execution_count": 3,
   "id": "naked-genealogy",
   "metadata": {},
   "outputs": [
    {
     "data": {
      "image/png": "[encoded data removed]",
      "text/plain": [
       "<Figure size 432x288 with 1 Axes>"
      ]
     },
     "metadata": {
      "needs_background": "light"
     },
     "output_type": "display_data"
    }
   ],
   "source": [
    "from statsmodels.graphics.tsaplots import plot_acf\n",
    "_ = plot_acf(logrtn, lags=40, title='Daily Log Return ACF')"
   ]
  },
  {
   "cell_type": "markdown",
   "id": "healthy-trading",
   "metadata": {},
   "source": [
    "In case of squared log return, we have a positive correlation up to 20 lag time steps. So we can confirm ARCH effects, testing for Heteroskedasticity should confirm later this."
   ]
  },
  {
   "cell_type": "markdown",
   "id": "czech-frost",
   "metadata": {},
   "source": [
    "* Fit a Gaussian ARMA-GARCH model to the log return series.  Perform model checking, including showing the normal QQ-plot of the standardized residuals.  Is the model adequate?"
   ]
  },
  {
   "cell_type": "code",
   "execution_count": 14,
   "id": "overhead-score",
   "metadata": {},
   "outputs": [
    {
     "name": "stdout",
     "output_type": "stream",
     "text": [
      "                     Constant Mean - GARCH Model Results                      \n",
      "==============================================================================\n",
      "Dep. Variable:                  Close   R-squared:                       0.000\n",
      "Mean Model:             Constant Mean   Adj. R-squared:                  0.000\n",
      "Vol Model:                      GARCH   Log-Likelihood:               -5855.76\n",
      "Distribution:                  Normal   AIC:                           11719.5\n",
      "Method:            Maximum Likelihood   BIC:                           11742.3\n",
      "                                        No. Observations:                 2188\n",
      "Date:                Tue, May 25 2021   Df Residuals:                     2187\n",
      "Time:                        22:13:13   Df Model:                            1\n",
      "                                Mean Model                                \n",
      "==========================================================================\n",
      "                 coef    std err          t      P>|t|    95.0% Conf. Int.\n",
      "--------------------------------------------------------------------------\n",
      "mu             0.2399  7.332e-02      3.273  1.066e-03 [9.624e-02,  0.384]\n",
      "                             Volatility Model                             \n",
      "==========================================================================\n",
      "                 coef    std err          t      P>|t|    95.0% Conf. Int.\n",
      "--------------------------------------------------------------------------\n",
      "omega          0.7484      0.273      2.740  6.137e-03   [  0.213,  1.284]\n",
      "alpha[1]       0.1583  4.826e-02      3.281  1.036e-03 [6.373e-02,  0.253]\n",
      "beta[1]        0.8127  3.230e-02     25.162 1.058e-139   [  0.749,  0.876]\n",
      "==========================================================================\n",
      "\n",
      "Covariance estimator: robust\n"
     ]
    }
   ],
   "source": [
    "from arch import arch_model\n",
    "\n",
    "logrtn100 = np.multiply(logrtn, 100)\n",
    "#Fit Arma-Garch\n",
    "am = arch_model(logrtn100, p=1, o=0, q=1, rescale= True)\n",
    "res = am.fit(update_freq=5, disp=\"off\")\n",
    "print(res.summary())\n"
   ]
  },
  {
   "cell_type": "code",
   "execution_count": 5,
   "id": "amber-knife",
   "metadata": {},
   "outputs": [
    {
     "data": {
      "image/png": "[encoded data removed]",
      "text/plain": [
       "<Figure size 432x288 with 1 Axes>"
      ]
     },
     "execution_count": 5,
     "metadata": {},
     "output_type": "execute_result"
    },
    {
     "data": {
      "image/png": "[encoded data removed]",
      "text/plain": [
       "<Figure size 432x288 with 1 Axes>"
      ]
     },
     "metadata": {
      "needs_background": "light"
     },
     "output_type": "display_data"
    }
   ],
   "source": [
    "#Show QQ-Plot\n",
    "sm.qqplot(res.resid, line ='45')"
   ]
  },
  {
   "cell_type": "markdown",
   "id": "introductory-nudist",
   "metadata": {},
   "source": [
    "Testing for a Garch(1,1) both ARCH and GARCH parameters are highly significant with p-values close to 0 (transformation of results first)(alpha & beta). Also the sum ARCH and GARCH coeficients is close to 1 (.2399 +.7484) so the shocks will be highly persistent. The GARCH parameter is significant, a large return or loss will lead to higher volatility  for a prolonged time. The standardized residuals from the GARCH model approach a normal distribution."
   ]
  },
  {
   "cell_type": "markdown",
   "id": "hybrid-borough",
   "metadata": {},
   "source": [
    "* Build a volatility model of your choice for the log return series. You may create additional features/variables using the data, apply data transformations you consider relevant and you are not limited to any particular model form. Explain the choice of your model and its rationale. Perform model checking, and disclose relevant plots.  Is the model adequate?  Why?"
   ]
  },
  {
   "cell_type": "code",
   "execution_count": 18,
   "id": "rational-store",
   "metadata": {},
   "outputs": [
    {
     "name": "stdout",
     "output_type": "stream",
     "text": [
      "                     Constant Mean - EGARCH Model Results                     \n",
      "==============================================================================\n",
      "Dep. Variable:                  Close   R-squared:                       0.000\n",
      "Mean Model:             Constant Mean   Adj. R-squared:                  0.000\n",
      "Vol Model:                     EGARCH   Log-Likelihood:               -5851.90\n",
      "Distribution:                  Normal   AIC:                           11711.8\n",
      "Method:            Maximum Likelihood   BIC:                           11734.6\n",
      "                                        No. Observations:                 2188\n",
      "Date:                Tue, May 25 2021   Df Residuals:                     2187\n",
      "Time:                        22:23:47   Df Model:                            1\n",
      "                                Mean Model                                \n",
      "==========================================================================\n",
      "                 coef    std err          t      P>|t|    95.0% Conf. Int.\n",
      "--------------------------------------------------------------------------\n",
      "mu             0.2658      0.101      2.637  8.373e-03 [6.821e-02,  0.463]\n",
      "                            Volatility Model                            \n",
      "========================================================================\n",
      "                 coef    std err          t      P>|t|  95.0% Conf. Int.\n",
      "------------------------------------------------------------------------\n",
      "omega          0.2161  5.344e-02      4.044  5.251e-05 [  0.111,  0.321]\n",
      "alpha[1]       0.2781  5.172e-02      5.377  7.589e-08 [  0.177,  0.379]\n",
      "beta[1]        0.9303  1.805e-02     51.540      0.000 [  0.895,  0.966]\n",
      "========================================================================\n",
      "\n",
      "Covariance estimator: robust\n"
     ]
    },
    {
     "data": {
      "image/png": "[encoded data removed]",
      "text/plain": [
       "<Figure size 432x288 with 2 Axes>"
      ]
     },
     "metadata": {
      "needs_background": "light"
     },
     "output_type": "display_data"
    }
   ],
   "source": [
    "#EGARCH proposal\n",
    "am2 = arch_model(logrtn100, p=1, q=1, rescale= True, vol=\"EGARCH\")\n",
    "res2 = am2.fit(update_freq=5, disp=\"off\")\n",
    "print(res2.summary())"
   ]
  },
  {
   "cell_type": "markdown",
   "id": "judicial-cambodia",
   "metadata": {},
   "source": [
    "According to Naimy and Zheng EGARCH(1,1) in 2018 seemed to be more accurate represent BTC volatility than GARCH(1,1) so it is proposed to verify this assumption and the relevance up to date. The results show a more significant alpha with a P Value less than .05 so the assumptions still holds."
   ]
  },
  {
   "cell_type": "markdown",
   "id": "settled-thing",
   "metadata": {},
   "source": [
    "Show a time-series plot of the estimated volatility series."
   ]
  },
  {
   "cell_type": "code",
   "execution_count": 19,
   "id": "consolidated-karma",
   "metadata": {},
   "outputs": [
    {
     "data": {
      "image/png": "[encoded data removed]",
      "text/plain": [
       "<Figure size 432x288 with 2 Axes>"
      ]
     },
     "metadata": {
      "needs_background": "light"
     },
     "output_type": "display_data"
    }
   ],
   "source": [
    "fig2 = res.plot(annualize=\"D\")"
   ]
  },
  {
   "cell_type": "markdown",
   "id": "speaking-policy",
   "metadata": {},
   "source": [
    "Obtain 1-step to 5-step ahead mean and volatility  forecasts using the fitted model."
   ]
  },
  {
   "cell_type": "code",
   "execution_count": 23,
   "id": "varied-paint",
   "metadata": {},
   "outputs": [
    {
     "name": "stdout",
     "output_type": "stream",
     "text": [
      "Iteration:      1,   Func. Count:      6,   Neg. LLF: 1295159160.037764\n",
      "Iteration:      2,   Func. Count:     15,   Neg. LLF: 9082.515591612515\n",
      "Iteration:      3,   Func. Count:     24,   Neg. LLF: 4973.359975267046\n",
      "Iteration:      4,   Func. Count:     30,   Neg. LLF: 4948.547967740671\n",
      "Iteration:      5,   Func. Count:     36,   Neg. LLF: 5663923115.047078\n",
      "Iteration:      6,   Func. Count:     44,   Neg. LLF: 4840.609538505665\n",
      "Iteration:      7,   Func. Count:     49,   Neg. LLF: 4840.546324573646\n",
      "Iteration:      8,   Func. Count:     54,   Neg. LLF: 4840.545159934942\n",
      "Iteration:      9,   Func. Count:     59,   Neg. LLF: 4840.545120152592\n",
      "Iteration:     10,   Func. Count:     63,   Neg. LLF: 4840.545120154871\n",
      "Optimization terminated successfully    (Exit mode 0)\n",
      "            Current function value: 4840.545120152592\n",
      "            Iterations: 10\n",
      "            Function evaluations: 63\n",
      "            Gradient evaluations: 10\n"
     ]
    }
   ],
   "source": [
    "import datetime as dt\n",
    "\n",
    "split_date = dt.datetime(2020,1,1)\n",
    "res3 = am2.fit(last_obs=split_date)\n",
    "forecasts1 = res3.forecast(horizon=5, start=split_date, reindex=True, method=\"simulation\")"
   ]
  },
  {
   "cell_type": "code",
   "execution_count": 26,
   "id": "stone-irish",
   "metadata": {},
   "outputs": [
    {
     "name": "stdout",
     "output_type": "stream",
     "text": [
      "                 h.1       h.2       h.3       h.4       h.5\n",
      "Date                                                        \n",
      "2020-12-27  0.163594  0.163594  0.163594  0.163594  0.163594\n",
      "2020-12-28  0.163594  0.163594  0.163594  0.163594  0.163594\n",
      "2020-12-29  0.163594  0.163594  0.163594  0.163594  0.163594\n",
      "2020-12-30  0.163594  0.163594  0.163594  0.163594  0.163594\n",
      "2020-12-31  0.163594  0.163594  0.163594  0.163594  0.163594\n",
      "                  h.1        h.2        h.3        h.4        h.5\n",
      "Date                                                             \n",
      "2020-12-27  17.752099  18.156015  18.498340  18.840761  19.052429\n",
      "2020-12-28  17.296590  17.689969  18.014051  18.260502  18.533394\n",
      "2020-12-29  14.718918  15.434496  15.908476  16.356858  16.779178\n",
      "2020-12-30  17.504881  18.035347  18.186509  18.677730  19.182435\n",
      "2020-12-31  14.411167  15.085999  15.654745  15.988749  16.478505\n"
     ]
    }
   ],
   "source": [
    "print(forecasts1.mean.tail())\n",
    "print(forecasts1.variance.tail())"
   ]
  },
  {
   "cell_type": "markdown",
   "id": "artificial-curtis",
   "metadata": {},
   "source": [
    "Compare the model from point 5 with the ARMA-GARCH model from point 4"
   ]
  },
  {
   "cell_type": "markdown",
   "id": "existing-arena",
   "metadata": {},
   "source": [
    "EGARCH captures better volatility associated to time series than GARCH. However recent studies have proposed RNN methodologies to better model and forecasts Cryptos Volatility."
   ]
  }
 ],
 "metadata": {
  "kernelspec": {
   "display_name": "Python 3",
   "language": "python",
   "name": "python3"
  },
  "language_info": {
   "codemirror_mode": {
    "name": "ipython",
    "version": 3
   },
   "file_extension": ".py",
   "mimetype": "text/x-python",
   "name": "python",
   "nbconvert_exporter": "python",
   "pygments_lexer": "ipython3",
   "version": "3.7.7"
  }
 },
 "nbformat": 4,
 "nbformat_minor": 5
}
